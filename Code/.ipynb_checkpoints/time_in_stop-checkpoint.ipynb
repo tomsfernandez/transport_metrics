{
 "cells": [
  {
   "cell_type": "code",
   "execution_count": 1,
   "metadata": {
    "scrolled": true
   },
   "outputs": [
    {
     "name": "stdout",
     "output_type": "stream",
     "text": [
      "Requirement already satisfied: geopy in /opt/conda/lib/python3.7/site-packages (1.20.0)\n",
      "Requirement already satisfied: geographiclib<2,>=1.49 in /opt/conda/lib/python3.7/site-packages (from geopy) (1.49)\n",
      "Collecting package metadata: done\n",
      "Solving environment: \\ \n",
      "The environment is inconsistent, please check the package plan carefully\n",
      "The following packages are causing the inconsistency:\n",
      "\n",
      "  - conda-forge/linux-64::matplotlib==3.0.3=py37_1\n",
      "done\n",
      "\n",
      "\n",
      "==> WARNING: A newer version of conda exists. <==\n",
      "  current version: 4.6.14\n",
      "  latest version: 4.7.11\n",
      "\n",
      "Please update conda by running\n",
      "\n",
      "    $ conda update -n base conda\n",
      "\n",
      "\n",
      "\n",
      "# All requested packages already installed.\n",
      "\n"
     ]
    }
   ],
   "source": [
    "!pip install geopy\n",
    "!sudo conda install -c conda-forge -y pyarrow"
   ]
  },
  {
   "cell_type": "code",
   "execution_count": 2,
   "metadata": {},
   "outputs": [],
   "source": [
    "import pandas as pd \n",
    "import numpy\n",
    "import matplotlib.pyplot as plt \n",
    "from pyspark.sql.types import DoubleType\n",
    "from pyspark.sql import SparkSession,Row\n",
    "from pyspark.sql.functions import lit, udf, col, unix_timestamp, pandas_udf, PandasUDFType\n",
    "from pyspark.sql import functions as F\n",
    "from geopy.distance import geodesic\n",
    "from struct import *"
   ]
  },
  {
   "cell_type": "code",
   "execution_count": 3,
   "metadata": {},
   "outputs": [],
   "source": [
    "spark = SparkSession.builder.appName(\"TimeInStop\").getOrCreate()"
   ]
  },
  {
   "cell_type": "code",
   "execution_count": 4,
   "metadata": {},
   "outputs": [],
   "source": [
    "points_df = spark.read.csv('../Datasets/time_in_stop/points.csv', inferSchema=True, header=True)\n",
    "stops_df = spark.read.csv('../Datasets/time_in_stop/stops.csv', inferSchema=True, header=True)\n",
    "vehicle_stops_df = spark.read.csv('../Datasets/time_in_stop/vehicle_stops.csv', inferSchema=True, header=True)"
   ]
  },
  {
   "cell_type": "code",
   "execution_count": 31,
   "metadata": {},
   "outputs": [
    {
     "data": {
      "text/plain": [
       "DataFrame[route_id: int, date: timestamp, vehicle_id: int, stop_id: int, stop_lat: double, stop_lon: double, name: string]"
      ]
     },
     "execution_count": 31,
     "metadata": {},
     "output_type": "execute_result"
    }
   ],
   "source": [
    "vehicle_and_stops = vehicle_stops_df.join(stops_df, 'route_id')\n",
    "vs = vehicle_and_stops.alias('vs')\n",
    "vs.show()"
   ]
  },
  {
   "cell_type": "code",
   "execution_count": 35,
   "metadata": {},
   "outputs": [
    {
     "data": {
      "text/plain": [
       "DataFrame[vehicle_id: int, route_id: int, date: timestamp, stop_id: int, stop_lat: double, stop_lon: double, name: string, timestamp: timestamp, lat: double, lon: double]"
      ]
     },
     "execution_count": 35,
     "metadata": {},
     "output_type": "execute_result"
    }
   ],
   "source": [
    "points_and_stops = vs.join(points_df, 'vehicle_id')\n",
    "ps = points_and_stops.alias('ps')\n",
    "ps.orderBy(ps.timestamp).show()"
   ]
  },
  {
   "cell_type": "code",
   "execution_count": 58,
   "metadata": {},
   "outputs": [],
   "source": [
    "@pandas_udf('float', PandasUDFType.SCALAR)\n",
    "def distance(lat1,lon1,lat2,lon2):\n",
    "    return geodesicdistance(lat1, lon1, lat2, lon2)\n",
    "\n",
    "@pandas_udf('int', PandasUDFType.GROUPED_AGG)\n",
    "def time_spread(timestamp):\n",
    "    return timestamp.max() - timestamp.min()"
   ]
  },
  {
   "cell_type": "code",
   "execution_count": 57,
   "metadata": {},
   "outputs": [],
   "source": [
    "from math import sin, cos, atan2, sqrt, pi\n",
    "\n",
    "def toRadians(series):\n",
    "    return series.mul(pi).div(180.0)\n",
    "\n",
    "def cosS(series):\n",
    "    return series.apply(cos)\n",
    "\n",
    "def sinS(series):\n",
    "    return series.apply(sin)\n",
    "\n",
    "def absS(series):\n",
    "    return series.abs()\n",
    "\n",
    "def sqrtS(series):\n",
    "    return series.apply(sqrt)\n",
    "\n",
    "def atan2S(series1, series2):\n",
    "    return (series1/series2).apply(atan)\n",
    "\n",
    "def geodesicdistance(point1Lat, point1Lng, point2Lat, point2Lng):\n",
    "    # Geodesic distance between two points on the Earth \n",
    "    # computed using Vincenty inverse problem formula \n",
    "    lat1, lng1 = toRadians(point1Lat), toRadians(point1Lng)\n",
    "    lat2, lng2 = toRadians(point2Lat), toRadians(point2Lng)\n",
    "    a = cosS(lat2)*sinS(absS(lng2 - lng1))\n",
    "    b = cosS(lat1)*sinS(lat2)-sinS(lat1)*cosS(lat2)*cosS(abs(lng2 - lng1))\n",
    "    c = sinS(lat1)*sinS(lat2)+cosS(lat1)*cosS(lat2)*cosS(abs(lng2 - lng1))\n",
    "    return earthRadius*atan2S(sqrtS(a*a+b*b),c)*1000"
   ]
  },
  {
   "cell_type": "code",
   "execution_count": 59,
   "metadata": {},
   "outputs": [
    {
     "name": "stdout",
     "output_type": "stream",
     "text": [
      "+----------+-------+-----------------+----------+------------+\n",
      "|vehicle_id|stop_id|             name| timestamp|    distance|\n",
      "+----------+-------+-----------------+----------+------------+\n",
      "|         1|      3|       La Pradera|1566124140|3.5494424E-5|\n",
      "|         1|      2|Caamaño y Ruta 25|1566123540|3.6474565E-5|\n",
      "|         1|      1|   Pilar del Este|1566122580|3.8222995E-5|\n",
      "|         1|      1|   Pilar del Este|1566122700| 4.866268E-5|\n",
      "|         1|      3|       La Pradera|1566124260|5.0537354E-5|\n",
      "|         1|      2|Caamaño y Ruta 25|1566123420| 8.532597E-5|\n",
      "|         1|      1|   Pilar del Este|1566122460|1.3259654E-4|\n",
      "|         1|      1|   Pilar del Este|1566122820|1.4766537E-4|\n",
      "|         1|      3|       La Pradera|1566124380|1.6049383E-4|\n",
      "|         1|      3|       La Pradera|1566124020|  1.92617E-4|\n",
      "|         1|      2|Caamaño y Ruta 25|1566123660|2.3270582E-4|\n",
      "|         1|      2|Caamaño y Ruta 25|1566123300|2.3968019E-4|\n",
      "|         1|      3|       La Pradera|1566124500|3.0703298E-4|\n",
      "|         1|      1|   Pilar del Este|1566122940| 3.193973E-4|\n",
      "|         1|      2|Caamaño y Ruta 25|1566123180|3.5435925E-4|\n",
      "|         1|      3|       La Pradera|1566124620| 3.976464E-4|\n",
      "|         1|      1|   Pilar del Este|1566123060| 4.509469E-4|\n",
      "|         1|      2|Caamaño y Ruta 25|1566123780|4.5469633E-4|\n",
      "|         1|      2|Caamaño y Ruta 25|1566123060|5.2384194E-4|\n",
      "|         1|      3|       La Pradera|1566123900|6.0239463E-4|\n",
      "+----------+-------+-----------------+----------+------------+\n",
      "only showing top 20 rows\n",
      "\n"
     ]
    }
   ],
   "source": [
    "ps.drop('date') \\\n",
    "  .withColumn(\"distance\", distance('stop_lat', 'stop_lon','lat', 'lon')) \\\n",
    "  .orderBy(\"distance\") \\\n",
    "  .drop('stop_lat','stop_lon','route_id','lat','lon') \\\n",
    "  .withColumn('timestamp', unix_timestamp(ps[\"timestamp\"])) \\\n",
    "  .show()"
   ]
  }
 ],
 "metadata": {
  "kernelspec": {
   "display_name": "Python 3",
   "language": "python",
   "name": "python3"
  },
  "language_info": {
   "codemirror_mode": {
    "name": "ipython",
    "version": 3
   },
   "file_extension": ".py",
   "mimetype": "text/x-python",
   "name": "python",
   "nbconvert_exporter": "python",
   "pygments_lexer": "ipython3",
   "version": "3.7.3"
  }
 },
 "nbformat": 4,
 "nbformat_minor": 2
}
