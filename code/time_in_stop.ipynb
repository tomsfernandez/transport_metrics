{
 "cells": [
  {
   "cell_type": "markdown",
   "metadata": {
    "scrolled": true
   },
   "source": [
    "## Tiempo en parada"
   ]
  },
  {
   "cell_type": "code",
   "execution_count": null,
   "metadata": {},
   "outputs": [],
   "source": [
    "!sudo conda install -c conda-forge -y pyarrow"
   ]
  },
  {
   "cell_type": "code",
   "execution_count": 2,
   "metadata": {},
   "outputs": [],
   "source": [
    "import pandas as pd \n",
    "import numpy\n",
    "import matplotlib.pyplot as plt \n",
    "from pyspark.sql.types import DoubleType\n",
    "from pyspark.sql import SparkSession,Row\n",
    "from pyspark.sql.functions import lit, udf, col, unix_timestamp, pandas_udf, PandasUDFType\n",
    "from pyspark.sql import functions as F\n",
    "from struct import *"
   ]
  },
  {
   "cell_type": "code",
   "execution_count": 3,
   "metadata": {},
   "outputs": [],
   "source": [
    "spark = SparkSession.builder.appName(\"TimeInStop\").getOrCreate()"
   ]
  },
  {
   "cell_type": "code",
   "execution_count": 4,
   "metadata": {},
   "outputs": [],
   "source": [
    "points_df = spark.read.csv('../Datasets/time_in_stop/points.csv', inferSchema=True, header=True)\n",
    "stops_df = spark.read.csv('../Datasets/time_in_stop/stops.csv', inferSchema=True, header=True)\n",
    "vehicle_stops_df = spark.read.csv('../Datasets/time_in_stop/vehicle_route.csv', inferSchema=True, header=True)"
   ]
  },
  {
   "cell_type": "code",
   "execution_count": 4,
   "metadata": {},
   "outputs": [
    {
     "name": "stdout",
     "output_type": "stream",
     "text": [
      "+--------+-------------------+----------+-------+----------+----------+-----------------+\n",
      "|route_id|               date|vehicle_id|stop_id|  stop_lat|  stop_lon|             name|\n",
      "+--------+-------------------+----------+-------+----------+----------+-----------------+\n",
      "|       1|2019-08-18 00:00:00|         1|      1|-34.398942|-58.861926|   Pilar del Este|\n",
      "|       1|2019-08-18 00:00:00|         1|      2|-34.406633|-58.857023|Caamaño y Ruta 25|\n",
      "|       1|2019-08-18 00:00:00|         1|      3|-34.413502|-58.847281|       La Pradera|\n",
      "+--------+-------------------+----------+-------+----------+----------+-----------------+\n",
      "\n"
     ]
    }
   ],
   "source": [
    "vehicle_and_stops = vehicle_stops_df.join(stops_df, 'route_id')\n",
    "vs = vehicle_and_stops.alias('vs')\n",
    "vs.show()"
   ]
  },
  {
   "cell_type": "code",
   "execution_count": 5,
   "metadata": {},
   "outputs": [
    {
     "name": "stdout",
     "output_type": "stream",
     "text": [
      "+----------+--------+-------------------+-------+----------+----------+-----------------+-------------------+----------+----------+\n",
      "|vehicle_id|route_id|               date|stop_id|  stop_lat|  stop_lon|             name|          timestamp|       lat|       lon|\n",
      "+----------+--------+-------------------+-------+----------+----------+-----------------+-------------------+----------+----------+\n",
      "|         1|       1|2019-08-18 00:00:00|      3|-34.413502|-58.847281|       La Pradera|2019-08-18 10:01:00|-34.397771|-58.862199|\n",
      "|         1|       1|2019-08-18 00:00:00|      1|-34.398942|-58.861926|   Pilar del Este|2019-08-18 10:01:00|-34.397771|-58.862199|\n",
      "|         1|       1|2019-08-18 00:00:00|      2|-34.406633|-58.857023|Caamaño y Ruta 25|2019-08-18 10:01:00|-34.397771|-58.862199|\n",
      "|         1|       1|2019-08-18 00:00:00|      1|-34.398942|-58.861926|   Pilar del Este|2019-08-18 10:03:00|-34.398603|-58.861995|\n",
      "|         1|       1|2019-08-18 00:00:00|      3|-34.413502|-58.847281|       La Pradera|2019-08-18 10:03:00|-34.398603|-58.861995|\n",
      "|         1|       1|2019-08-18 00:00:00|      2|-34.406633|-58.857023|Caamaño y Ruta 25|2019-08-18 10:03:00|-34.398603|-58.861995|\n",
      "|         1|       1|2019-08-18 00:00:00|      2|-34.406633|-58.857023|Caamaño y Ruta 25|2019-08-18 10:05:00|-34.399373|-58.861834|\n",
      "|         1|       1|2019-08-18 00:00:00|      3|-34.413502|-58.847281|       La Pradera|2019-08-18 10:05:00|-34.399373|-58.861834|\n",
      "|         1|       1|2019-08-18 00:00:00|      1|-34.398942|-58.861926|   Pilar del Este|2019-08-18 10:05:00|-34.399373|-58.861834|\n",
      "|         1|       1|2019-08-18 00:00:00|      3|-34.413502|-58.847281|       La Pradera|2019-08-18 10:07:00|-34.400249|-58.861641|\n",
      "|         1|       1|2019-08-18 00:00:00|      1|-34.398942|-58.861926|   Pilar del Este|2019-08-18 10:07:00|-34.400249|-58.861641|\n",
      "|         1|       1|2019-08-18 00:00:00|      2|-34.406633|-58.857023|Caamaño y Ruta 25|2019-08-18 10:07:00|-34.400249|-58.861641|\n",
      "|         1|       1|2019-08-18 00:00:00|      2|-34.406633|-58.857023|Caamaño y Ruta 25|2019-08-18 10:09:00|-34.401772| -58.86133|\n",
      "|         1|       1|2019-08-18 00:00:00|      3|-34.413502|-58.847281|       La Pradera|2019-08-18 10:09:00|-34.401772| -58.86133|\n",
      "|         1|       1|2019-08-18 00:00:00|      1|-34.398942|-58.861926|   Pilar del Este|2019-08-18 10:09:00|-34.401772| -58.86133|\n",
      "|         1|       1|2019-08-18 00:00:00|      2|-34.406633|-58.857023|Caamaño y Ruta 25|2019-08-18 10:11:00|-34.402763|-58.860279|\n",
      "|         1|       1|2019-08-18 00:00:00|      3|-34.413502|-58.847281|       La Pradera|2019-08-18 10:11:00|-34.402763|-58.860279|\n",
      "|         1|       1|2019-08-18 00:00:00|      1|-34.398942|-58.861926|   Pilar del Este|2019-08-18 10:11:00|-34.402763|-58.860279|\n",
      "|         1|       1|2019-08-18 00:00:00|      1|-34.398942|-58.861926|   Pilar del Este|2019-08-18 10:13:00|-34.404215|-58.859539|\n",
      "|         1|       1|2019-08-18 00:00:00|      2|-34.406633|-58.857023|Caamaño y Ruta 25|2019-08-18 10:13:00|-34.404215|-58.859539|\n",
      "+----------+--------+-------------------+-------+----------+----------+-----------------+-------------------+----------+----------+\n",
      "only showing top 20 rows\n",
      "\n"
     ]
    }
   ],
   "source": [
    "points_and_stops = vs.join(points_df, 'vehicle_id')\n",
    "ps = points_and_stops.alias('ps')\n",
    "ps.orderBy(ps.timestamp).show()"
   ]
  },
  {
   "cell_type": "code",
   "execution_count": 14,
   "metadata": {},
   "outputs": [],
   "source": [
    "@pandas_udf('float', PandasUDFType.SCALAR)\n",
    "def distance(lat1,lon1,lat2,lon2):\n",
    "    return geodesicdistance(lat1, lon1, lat2, lon2)\n",
    "\n",
    "@pandas_udf('int', PandasUDFType.GROUPED_AGG)\n",
    "def time_spread(timestamp):\n",
    "    return timestamp.max() - timestamp.min()"
   ]
  },
  {
   "cell_type": "code",
   "execution_count": 13,
   "metadata": {},
   "outputs": [],
   "source": [
    "from math import sin, cos, atan, sqrt, pi\n",
    "\n",
    "earthRadius = 6.371e3\n",
    "\n",
    "def toRadians(series):\n",
    "    return series.mul(pi).div(180.0)\n",
    "\n",
    "def cosS(series):\n",
    "    return series.apply(cos)\n",
    "\n",
    "def sinS(series):\n",
    "    return series.apply(sin)\n",
    "\n",
    "def absS(series):\n",
    "    return series.abs()\n",
    "\n",
    "def sqrtS(series):\n",
    "    return series.apply(sqrt)\n",
    "\n",
    "def atan2S(series1, series2):\n",
    "    return (series1/series2).apply(atan)\n",
    "\n",
    "def geodesicdistance(point1Lat, point1Lng, point2Lat, point2Lng):\n",
    "    # Geodesic distance between two points on the Earth \n",
    "    # computed using Vincenty inverse problem formula \n",
    "    lat1, lng1 = toRadians(point1Lat), toRadians(point1Lng)\n",
    "    lat2, lng2 = toRadians(point2Lat), toRadians(point2Lng)\n",
    "    a = cosS(lat2)*sinS(absS(lng2 - lng1))\n",
    "    b = cosS(lat1)*sinS(lat2)-sinS(lat1)*cosS(lat2)*cosS(abs(lng2 - lng1))\n",
    "    c = sinS(lat1)*sinS(lat2)+cosS(lat1)*cosS(lat2)*cosS(abs(lng2 - lng1))\n",
    "    return earthRadius*atan2S(sqrtS(a*a+b*b),c)*1000"
   ]
  },
  {
   "cell_type": "code",
   "execution_count": 18,
   "metadata": {},
   "outputs": [
    {
     "name": "stdout",
     "output_type": "stream",
     "text": [
      "+----------+-------+------+\n",
      "|vehicle_id|stop_id|tiempo|\n",
      "+----------+-------+------+\n",
      "|         1|      2|     0|\n",
      "|         1|      1|   120|\n",
      "|         1|      3|     0|\n",
      "+----------+-------+------+\n",
      "\n"
     ]
    }
   ],
   "source": [
    "report = ps.drop('date') \\\n",
    "  .withColumn(\"distance\", distance('stop_lat', 'stop_lon','lat', 'lon')) \\\n",
    "  .orderBy(\"timestamp\") \\\n",
    "  .filter(col(\"distance\") < 50) \\\n",
    "  .drop('stop_lat','stop_lon','route_id','lat','lon') \\\n",
    "  .withColumn('timestamp', unix_timestamp(ps[\"timestamp\"])) \\\n",
    "  .groupby(\"vehicle_id\", \"stop_id\") \\\n",
    "  .agg(time_spread(col(\"timestamp\")).alias('tiempo')) \\\n",
    "  .show()"
   ]
  }
 ],
 "metadata": {
  "kernelspec": {
   "display_name": "Python 3",
   "language": "python",
   "name": "python3"
  },
  "language_info": {
   "codemirror_mode": {
    "name": "ipython",
    "version": 3
   },
   "file_extension": ".py",
   "mimetype": "text/x-python",
   "name": "python",
   "nbconvert_exporter": "python",
   "pygments_lexer": "ipython3",
   "version": "3.7.3"
  }
 },
 "nbformat": 4,
 "nbformat_minor": 2
}
